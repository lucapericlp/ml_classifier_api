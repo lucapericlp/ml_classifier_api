{
  "nbformat": 4,
  "nbformat_minor": 0,
  "metadata": {
    "colab": {
      "name": "best_limit_mnist.ipynb",
      "version": "0.3.2",
      "provenance": [],
      "collapsed_sections": []
    },
    "kernelspec": {
      "name": "python3",
      "display_name": "Python 3"
    },
    "accelerator": "GPU"
  },
  "cells": [
    {
      "cell_type": "markdown",
      "metadata": {
        "id": "fbdD2PMFFRsq",
        "colab_type": "text"
      },
      "source": [
        "# Expoloring and limiting the dataset \n",
        "\n"
      ]
    },
    {
      "cell_type": "markdown",
      "metadata": {
        "id": "t_7aIi8VFRsr",
        "colab_type": "text"
      },
      "source": [
        "Setup: https://course.fast.ai/start_colab.html"
      ]
    },
    {
      "cell_type": "markdown",
      "metadata": {
        "id": "XlKQ0EEsOcL7",
        "colab_type": "text"
      },
      "source": [
        "500 image MNIST dataset which is structured as:\n",
        "80% train\n",
        "10% valid\n",
        "10% test"
      ]
    },
    {
      "cell_type": "code",
      "metadata": {
        "id": "pzBYgT__FRss",
        "colab_type": "code",
        "colab": {}
      },
      "source": [
        "%reload_ext autoreload\n",
        "%autoreload 2\n",
        "%matplotlib inline"
      ],
      "execution_count": 0,
      "outputs": []
    },
    {
      "cell_type": "code",
      "metadata": {
        "id": "m6ootW3lFRsw",
        "colab_type": "code",
        "colab": {}
      },
      "source": [
        "import numpy as np\n",
        "import pandas as pd\n",
        "import matplotlib.pyplot as plt\n",
        "\n",
        "from fastai.vision import *\n",
        "from fastai.gen_doc.nbdoc import *\n",
        "from fastai.callbacks import *\n",
        "from fastai.callbacks.hooks import *\n",
        "from fastai.metrics import Precision, Recall, error_rate\n",
        "\n",
        "import os"
      ],
      "execution_count": 0,
      "outputs": []
    },
    {
      "cell_type": "code",
      "metadata": {
        "id": "hjQhQ8qa-u5h",
        "colab_type": "code",
        "outputId": "989f9869-e53c-468b-e35c-77acd2cbd8f6",
        "colab": {
          "base_uri": "https://localhost:8080/",
          "height": 34
        }
      },
      "source": [
        "path = untar_data(URLs.MNIST); path"
      ],
      "execution_count": 3,
      "outputs": [
        {
          "output_type": "execute_result",
          "data": {
            "text/plain": [
              "PosixPath('/root/.fastai/data/mnist_png')"
            ]
          },
          "metadata": {
            "tags": []
          },
          "execution_count": 3
        }
      ]
    },
    {
      "cell_type": "code",
      "metadata": {
        "id": "02oItgQx-wm-",
        "colab_type": "code",
        "colab": {}
      },
      "source": [
        "tfms = get_transforms(do_flip=False, max_lighting=None, max_zoom=1.2, p_affine=0.5, max_warp=0.2, max_rotate=5.0)"
      ],
      "execution_count": 0,
      "outputs": []
    },
    {
      "cell_type": "code",
      "metadata": {
        "id": "HWJoxKaqmwgl",
        "colab_type": "code",
        "colab": {}
      },
      "source": [
        "LIMIT_DS = 500\n",
        "TRAIN_DS_PCT = 0.8\n",
        "VALID_DS_PCT = 0.1\n",
        "TEST_DS_PCT = 0.1\n",
        "\n",
        "TRAINING_DS_SIZE = 63000"
      ],
      "execution_count": 0,
      "outputs": []
    },
    {
      "cell_type": "code",
      "metadata": {
        "id": "1GjwB0imlrcu",
        "colab_type": "code",
        "colab": {}
      },
      "source": [
        "train_sz = (LIMIT_DS*TRAIN_DS_PCT)/TRAINING_DS_SIZE\n",
        "valid_sz = (LIMIT_DS*VALID_DS_PCT)/TRAINING_DS_SIZE\n",
        "sd_train = ImageList.from_folder(path/'training').split_subsets(train_size=train_sz,valid_size=valid_sz,seed=8080)\n",
        "ll_train = sd_train.label_from_folder();\n",
        "data = ImageDataBunch.create_from_ll(ll_train,ds_tfms=tfms, size=24, bs=32).normalize(imagenet_stats)"
      ],
      "execution_count": 0,
      "outputs": []
    },
    {
      "cell_type": "code",
      "metadata": {
        "id": "ckP8tQp2EcED",
        "colab_type": "code",
        "cellView": "form",
        "colab": {}
      },
      "source": [
        "# @title\n",
        "# use this to use consistent validation set\n",
        "# data.save(base_dir+\"/tmp/dataBunches/size_65_bs_32.pkl\")\n",
        "# data_test = load_data(file=base_dir+\"/tmp/dataBunches/size_65_bs_32.pkl\",path=Path(PATH),bs=32,dl_tfms=tfms).normalize(imagenet_stats)"
      ],
      "execution_count": 0,
      "outputs": []
    },
    {
      "cell_type": "code",
      "metadata": {
        "id": "skgljMEOzLGl",
        "colab_type": "code",
        "outputId": "6e7d5b88-36d0-4b50-94ef-c066e12384be",
        "colab": {
          "base_uri": "https://localhost:8080/",
          "height": 475
        }
      },
      "source": [
        "print(data.classes)\n",
        "print(len(data.train_ds),len(data.valid_ds))\n",
        "data.show_batch(rows=5, figsize=(7,6))"
      ],
      "execution_count": 18,
      "outputs": [
        {
          "output_type": "stream",
          "text": [
            "['0', '1', '2', '3', '4', '5', '6', '7', '8', '9']\n",
            "380 47\n"
          ],
          "name": "stdout"
        },
        {
          "output_type": "display_data",
          "data": {
            "image/png": "[encoded data removed]",
            "text/plain": [
              "<Figure size 504x432 with 25 Axes>"
            ]
          },
          "metadata": {
            "tags": []
          }
        }
      ]
    },
    {
      "cell_type": "code",
      "metadata": {
        "id": "pUKXuSIWXBCD",
        "colab_type": "code",
        "colab": {}
      },
      "source": [
        "def find_distribution(target_ds):\n",
        "  output_dist_ds = {}\n",
        "  for img in target_ds:\n",
        "    img_key = int(img[1])\n",
        "    if img_key in output_dist_ds:\n",
        "      output_dist_ds[img_key] += 1\n",
        "    else:\n",
        "      output_dist_ds[img_key] = 1\n",
        "  return output_dist_ds"
      ],
      "execution_count": 0,
      "outputs": []
    },
    {
      "cell_type": "code",
      "metadata": {
        "id": "Ubj9N6rvFNRf",
        "colab_type": "code",
        "colab": {}
      },
      "source": [
        "# find the distribution through simple counting occurences\n",
        "train_ds_dist = find_distribution(data.train_ds)\n",
        "valid_ds_dist = find_distribution(data.valid_ds)\n",
        "plt_points = [train_ds_dist,valid_ds_dist]\n",
        "\n",
        "# ensure we have accurate numbers\n",
        "train_total = sum([value for entry, value in train_ds_dist.items()])\n",
        "valid_total = sum([value for entry, value in valid_ds_dist.items()])"
      ],
      "execution_count": 0,
      "outputs": []
    },
    {
      "cell_type": "code",
      "metadata": {
        "id": "EabCPhZBKFeA",
        "colab_type": "code",
        "outputId": "4a788fd6-e47f-4f3e-f880-d24f3b91fec0",
        "colab": {
          "base_uri": "https://localhost:8080/",
          "height": 269
        }
      },
      "source": [
        "# visualise the training and validation distribution\n",
        "for ds in plt_points:\n",
        "  plt.bar(range(len(ds)), list(ds.values()), align='center')\n",
        "  plt.xticks(range(len(ds)), list(ds.keys()))"
      ],
      "execution_count": 33,
      "outputs": [
        {
          "output_type": "display_data",
          "data": {
            "image/png": "[encoded data removed]",
            "text/plain": [
              "<Figure size 432x288 with 1 Axes>"
            ]
          },
          "metadata": {
            "tags": []
          }
        }
      ]
    },
    {
      "cell_type": "code",
      "metadata": {
        "id": "HQLDYofXIY4g",
        "colab_type": "code",
        "outputId": "793094e8-1d87-46fd-a8ee-4e580ad0e705",
        "colab": {
          "base_uri": "https://localhost:8080/",
          "height": 187
        }
      },
      "source": [
        "# inspect the distribution\n",
        "for img_key,count in train_ds_dist.items():\n",
        "  print(img_key,count)"
      ],
      "execution_count": 11,
      "outputs": [
        {
          "output_type": "stream",
          "text": [
            "4 43\n",
            "2 39\n",
            "7 45\n",
            "9 34\n",
            "3 38\n",
            "8 35\n",
            "5 28\n",
            "6 45\n",
            "0 36\n",
            "1 37\n"
          ],
          "name": "stdout"
        }
      ]
    }
  ]
}