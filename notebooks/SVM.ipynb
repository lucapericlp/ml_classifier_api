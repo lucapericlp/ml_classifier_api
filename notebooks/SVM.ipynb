{
  "nbformat": 4,
  "nbformat_minor": 0,
  "metadata": {
    "colab": {
      "name": "SVM",
      "version": "0.3.2",
      "provenance": [],
      "collapsed_sections": []
    },
    "kernelspec": {
      "name": "python3",
      "display_name": "Python 3"
    },
    "accelerator": "GPU"
  },
  "cells": [
    {
      "cell_type": "markdown",
      "metadata": {
        "id": "fbdD2PMFFRsq",
        "colab_type": "text"
      },
      "source": [
        "# Building a linear SVM on a limited MNIST dataset"
      ]
    },
    {
      "cell_type": "code",
      "metadata": {
        "id": "pzBYgT__FRss",
        "colab_type": "code",
        "colab": {}
      },
      "source": [
        "%reload_ext autoreload\n",
        "%autoreload 2\n",
        "%matplotlib inline"
      ],
      "execution_count": 0,
      "outputs": []
    },
    {
      "cell_type": "code",
      "metadata": {
        "id": "4K_aMckyfEVR",
        "colab_type": "code",
        "colab": {}
      },
      "source": [
        "!pip install scikit-learn"
      ],
      "execution_count": 0,
      "outputs": []
    },
    {
      "cell_type": "code",
      "metadata": {
        "id": "PsWVtMuUcLZr",
        "colab_type": "code",
        "colab": {
          "base_uri": "https://localhost:8080/",
          "height": 122
        },
        "outputId": "de24f7cc-98d8-46ce-90f2-ce5985016a08"
      },
      "source": [
        "import pickle\n",
        "from google.colab import drive\n",
        "\n",
        "drive.mount('/content/gdrive', force_remount=True)\n",
        "root_dir = \"/content/gdrive/My Drive/\"\n",
        "base_dir = root_dir + 'fastai-v3/'"
      ],
      "execution_count": 9,
      "outputs": [
        {
          "output_type": "stream",
          "text": [
            "Go to this URL in a browser: https://accounts.google.com/o/oauth2/auth?client_id=947318989803-6bn6qk8qdgf4n4g3pfee6491hc0brc4i.apps.googleusercontent.com&redirect_uri=urn%3Aietf%3Awg%3Aoauth%3A2.0%3Aoob&scope=email%20https%3A%2F%2Fwww.googleapis.com%2Fauth%2Fdocs.test%20https%3A%2F%2Fwww.googleapis.com%2Fauth%2Fdrive%20https%3A%2F%2Fwww.googleapis.com%2Fauth%2Fdrive.photos.readonly%20https%3A%2F%2Fwww.googleapis.com%2Fauth%2Fpeopleapi.readonly&response_type=code\n",
            "\n",
            "Enter your authorization code:\n",
            "··········\n",
            "Mounted at /content/gdrive\n"
          ],
          "name": "stdout"
        }
      ]
    },
    {
      "cell_type": "code",
      "metadata": {
        "id": "CJDVZPgNfXcO",
        "colab_type": "code",
        "outputId": "4afed7bf-5bff-4ada-f6dd-9fcb87908d8f",
        "colab": {
          "base_uri": "https://localhost:8080/",
          "height": 68
        }
      },
      "source": [
        "from sklearn.datasets import fetch_openml\n",
        "from sklearn.model_selection import train_test_split\n",
        "from sklearn.utils import check_random_state\n",
        "from sklearn.svm import SVC\n",
        "from sklearn.preprocessing import StandardScaler\n",
        "from sklearn.metrics import accuracy_score\n",
        "\n",
        "train_samples,seed = 450, 8080\n",
        "\n",
        "X, y = fetch_openml('mnist_784', version=1, return_X_y=True)\n",
        "random_state = check_random_state(0)\n",
        "permutation = random_state.permutation(X.shape[0])\n",
        "X = X[permutation]\n",
        "y = y[permutation]\n",
        "X = X.reshape((X.shape[0], -1))\n",
        "\n",
        "X_train, X_test, y_train, y_test = train_test_split(\n",
        "    X, y, train_size=train_samples, test_size=50, random_state=seed)\n",
        "\n",
        "scaler = StandardScaler()\n",
        "X_train = scaler.fit_transform(X_train)\n",
        "X_test = scaler.transform(X_test)\n",
        "\n",
        "clf = SVC(kernel=\"linear\", C=0.05, probability=True)\n",
        "\n",
        "print(\"Training model...\")\n",
        "clf.fit(X_train, y_train)\n",
        "\n",
        "print(\"Performing predictions...\")\n",
        "predicted = clf.predict(X_test)\n",
        "\n",
        "print(\"Accuracy: {}\".format(accuracy_score(y_test, predicted)))"
      ],
      "execution_count": 79,
      "outputs": [
        {
          "output_type": "stream",
          "text": [
            "Training model...\n",
            "Performing predictions...\n",
            "Accuracy: 0.82\n"
          ],
          "name": "stdout"
        }
      ]
    },
    {
      "cell_type": "code",
      "metadata": {
        "id": "NSBVuf4ccNW5",
        "colab_type": "code",
        "colab": {}
      },
      "source": [
        "pickle.dump(clf, open(base_dir+'SVM_onfido.sav','wb'))"
      ],
      "execution_count": 0,
      "outputs": []
    },
    {
      "cell_type": "code",
      "metadata": {
        "id": "Z3AyIjhEc_J4",
        "colab_type": "code",
        "colab": {}
      },
      "source": [
        "loaded_model = pickle.load(open(base_dir+'SVM_onfido.sav','rb'))\n",
        "loaded_model.score(X_test,y_test)"
      ],
      "execution_count": 0,
      "outputs": []
    },
    {
      "cell_type": "code",
      "metadata": {
        "colab_type": "code",
        "id": "lsbrcprniTkR",
        "colab": {},
        "cellView": "form"
      },
      "source": [
        "#@title Testing prediction upon single image\n",
        "from PIL import Image\n",
        "import numpy as np\n",
        "from sklearn.preprocessing import scale\n",
        "\n",
        "img = np.array(Image.open(base_dir+\"sample_digit.png\").convert(\"L\").resize((28,28),Image.ANTIALIAS)).flatten()\n",
        "img = img.reshape(1,-1)\n",
        "img = scale(img,axis=1)\n",
        "classes = [i for i in range(0,10)]\n",
        "losses = (loaded_model.predict_proba(img)).flatten()\n",
        "predictions = sorted(\n",
        "\t\t\tzip(classes, map(float, losses)),\n",
        "\t\t\tkey=lambda p: p[1],\n",
        "\t\t\treverse=True\n",
        ")\n",
        "print(predictions)"
      ],
      "execution_count": 0,
      "outputs": []
    }
  ]
}